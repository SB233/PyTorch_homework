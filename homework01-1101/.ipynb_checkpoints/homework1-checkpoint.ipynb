{
 "cells": [
  {
   "cell_type": "markdown",
   "metadata": {},
   "source": [
    "# 基于词向量的英汉翻译——“火炬上的深度学习\"下第一次作业\n",
    "\n",
    "在这个作业中，你需要半独立地完成一个英文到中文的单词翻译器\n",
    "\n",
    "本文件是集智AI学园http://campus.swarma.org 出品的“火炬上的深度学习”第VI课的配套源代码"
   ]
  },
  {
   "cell_type": "code",
   "execution_count": 1,
   "metadata": {
    "collapsed": true
   },
   "outputs": [],
   "source": [
    "# 加载必要的程序包\n",
    "# PyTorch的程序包\n",
    "import torch\n",
    "from torch.autograd import Variable\n",
    "import torch.nn as nn\n",
    "import torch.nn.functional as F\n",
    "import torch.optim as optim\n",
    "\n",
    "# 数值运算和绘图的程序包\n",
    "import numpy as np\n",
    "import matplotlib.pyplot as plt\n",
    "import matplotlib\n",
    "\n",
    "\n",
    "# 加载机器学习的软件包，主要为了词向量的二维可视化\n",
    "from sklearn.decomposition import PCA\n",
    "\n",
    "#加载Word2Vec的软件包\n",
    "import gensim as gensim\n",
    "from gensim.models import Word2Vec\n",
    "from gensim.models.keyedvectors import KeyedVectors\n",
    "from gensim.models.word2vec import LineSentence\n",
    "\n",
    "#加载正则表达式处理的包\n",
    "import re\n",
    "\n",
    "#在Notebook界面能够直接显示图形\n",
    "%matplotlib inline"
   ]
  },
  {
   "cell_type": "markdown",
   "metadata": {},
   "source": [
    "## 第一步：加载词向量\n",
    "\n",
    "首先，让我们加载别人已经在大型语料库上训练好的词向量"
   ]
  },
  {
   "cell_type": "code",
   "execution_count": 2,
   "metadata": {
    "collapsed": false
   },
   "outputs": [
    {
     "data": {
      "text/plain": [
       "1366130"
      ]
     },
     "execution_count": 2,
     "metadata": {},
     "output_type": "execute_result"
    }
   ],
   "source": [
    "# 加载中文词向量，下载地址为：链接：http://pan.baidu.com/s/1gePQAun 密码：kvtg\n",
    "# 该中文词向量库是由尹相志提供，训练语料来源为：微博、人民日报、上海热线、汽车之家等，包含1366130个词向量\n",
    "word_vectors = KeyedVectors.load_word2vec_format('vectors.bin', binary=True, unicode_errors='ignore')\n",
    "len(word_vectors.vocab)"
   ]
  },
  {
   "cell_type": "code",
   "execution_count": 5,
   "metadata": {
    "collapsed": false
   },
   "outputs": [
    {
     "name": "stdout",
     "output_type": "stream",
     "text": [
      "400000\n"
     ]
    }
   ],
   "source": [
    "# 加载中文的词向量，下载地址为：http://nlp.stanford.edu/data/glove.6B.zip，解压后将glove.6B.100d.txt文件拷贝到与本notebook\n",
    "# 文件一致的文件夹洗面。\n",
    "f = open('glove.6B.100d.txt', 'r')\n",
    "i = 1\n",
    "\n",
    "# 将英文的词向量都存入如下的字典中\n",
    "word_vectors_en = {}\n",
    "with open('glove.6B.100d.txt') as f:\n",
    "    for line in f:\n",
    "        numbers = line.split()\n",
    "        word = numbers[0]\n",
    "        vectors = np.array([float(i) for i in numbers[1 : ]])\n",
    "        word_vectors_en[word] = vectors\n",
    "        i += 1\n",
    "print(len(word_vectors_en))"
   ]
  },
  {
   "cell_type": "markdown",
   "metadata": {},
   "source": [
    "## 第二步：可视化同一组意思词在两种不同语言的词向量中的相互位置关系"
   ]
  },
  {
   "cell_type": "code",
   "execution_count": 6,
   "metadata": {
    "collapsed": true
   },
   "outputs": [],
   "source": [
    "# 中文的一二三四五列表\n",
    "cn_list = {'一', '二', '三', '四', '五', '六', '七', '八', '九', '零'}\n",
    "# 阿拉伯数字的12345列表\n",
    "en_list = {'1', '2', '3', '4', '5', '6', '7', '8', '9', '0'}\n",
    "# 英文数字的列表\n",
    "en_list = {'one', 'two', 'three', 'four', 'five', 'six', 'seven', 'eight', 'nine', 'zero'}\n",
    "\n",
    "# 对应词向量都存入到列表中\n",
    "cn_vectors = []  #中文的词向量列表\n",
    "en_vectors = []  #英文的词向量列表\n",
    "for w in cn_list:\n",
    "    cn_vectors.append(word_vectors[w])\n",
    "for w in en_list:\n",
    "    en_vectors.append(word_vectors_en[w])\n",
    "\n",
    "# 将这些词向量统一转化为矩阵\n",
    "cn_vectors = np.array(cn_vectors)\n",
    "en_vectors = np.array(en_vectors)"
   ]
  },
  {
   "cell_type": "code",
   "execution_count": 33,
   "metadata": {
    "collapsed": false
   },
   "outputs": [
    {
     "data": {
      "image/png": "[encoded data removed]",
      "text/plain": [
       "<matplotlib.figure.Figure at 0x19fb940f0>"
      ]
     },
     "metadata": {},
     "output_type": "display_data"
    }
   ],
   "source": [
    "# 降维实现可视化\n",
    "#X_reduced = PCA(n_components=2).fit_transform(cn_vectors)\n",
    "#Y_reduced = PCA(n_components = 2).fit_transform(en_vectors)\n",
    "\n",
    "# 绘制所有单词向量的二维空间投影\n",
    "#f, (ax1, ax2) = plt.subplots(1, 2, figsize = (10, 8))\n",
    "#ax1.plot(X_reduced[:, 0], X_reduced[:, 1], 'o')\n",
    "#ax2.plot(Y_reduced[:, 0], Y_reduced[:, 1], 'o')\n",
    "#zhfont1 = matplotlib.font_manager.FontProperties(fname='/Library/Fonts/华文仿宋.ttf', size=16)\n",
    "#for i, w in enumerate(cn_list):\n",
    "#    ax1.text(X_reduced[i, 0], X_reduced[i, 1], w, fontproperties = zhfont1, alpha = 1)\n",
    "#for i, w in enumerate(en_list):\n",
    "#    ax2.text(Y_reduced[i, 0], Y_reduced[i, 1], w, alpha = 1)"
   ]
  },
  {
   "cell_type": "markdown",
   "metadata": {},
   "source": [
    "### 结论：可以看出，中文的一、二、等数字彼此之间的关系与英文的数字彼此之间的关系很类似"
   ]
  },
  {
   "cell_type": "markdown",
   "metadata": {},
   "source": [
    "## 第三步：训练一个神经网络，输入一个英文单词的词向量，输出一个中文的词向量，并翻译为中文"
   ]
  },
  {
   "cell_type": "markdown",
   "metadata": {},
   "source": [
    "首先，读入一个已经建立好的词典（dictionary.txt）。本词典是老师调用百度翻译的API，自动将一篇英文小说中的词汇逐个翻译为中文而得来的\n",
    "\n",
    "我们一个个地载入词典，并查找对应的中文词向量，如果找得到，则放入original_words中，做为正式的训练集"
   ]
  },
  {
   "cell_type": "code",
   "execution_count": 7,
   "metadata": {
    "collapsed": false
   },
   "outputs": [
    {
     "name": "stdout",
     "output_type": "stream",
     "text": [
      "4962\n"
     ]
    }
   ],
   "source": [
    "original_words = []\n",
    "with open('dictionary.txt', 'r') as f:\n",
    "    dataset = []\n",
    "    for line in f:\n",
    "        itm = line.split('\\t')\n",
    "        eng = itm[0]\n",
    "        chn = itm[1].strip()\n",
    "        if eng in word_vectors_en and chn in word_vectors:\n",
    "            data = word_vectors_en[eng]\n",
    "            target = word_vectors[chn]\n",
    "            # 将中英文词对做成数据集\n",
    "            dataset.append([data, target])\n",
    "            original_words.append([eng, chn])\n",
    "print(len(dataset)) # 共有4962个单词做为总的数据集合"
   ]
  },
  {
   "cell_type": "code",
   "execution_count": 8,
   "metadata": {
    "collapsed": true
   },
   "outputs": [],
   "source": [
    "# 建立训练集、测试集和校验集\n",
    "# 训练集用来训练神经网络，更改网络的参数；校验集用来判断网络模型是否过拟合：当校验集的损失数值超过训练集的时候，即为过拟合\n",
    "# 测试集用来检验模型的好坏\n",
    "indx = np.random.permutation(range(len(dataset)))\n",
    "dataset = [dataset[i] for i in indx]\n",
    "original_words = [original_words[i] for i in indx]\n",
    "train_size = 500\n",
    "train_data = dataset[train_size:]\n",
    "valid_data = dataset[train_size // 2 : train_size]\n",
    "test_data = dataset[: train_size // 2]\n",
    "test_words = original_words[: train_size // 2]\n"
   ]
  },
  {
   "cell_type": "code",
   "execution_count": 17,
   "metadata": {
    "collapsed": false,
    "scrolled": true
   },
   "outputs": [
    {
     "name": "stdout",
     "output_type": "stream",
     "text": [
      "0轮，训练Loss: 8.77, 校验Loss: 8.06\n",
      "1轮，训练Loss: 8.35, 校验Loss: 7.77\n",
      "2轮，训练Loss: 8.09, 校验Loss: 7.60\n",
      "3轮，训练Loss: 7.93, 校验Loss: 7.48\n",
      "4轮，训练Loss: 7.82, 校验Loss: 7.40\n",
      "5轮，训练Loss: 7.73, 校验Loss: 7.33\n",
      "6轮，训练Loss: 7.66, 校验Loss: 7.27\n",
      "7轮，训练Loss: 7.60, 校验Loss: 7.22\n",
      "8轮，训练Loss: 7.55, 校验Loss: 7.18\n",
      "9轮，训练Loss: 7.51, 校验Loss: 7.14\n",
      "10轮，训练Loss: 7.46, 校验Loss: 7.11\n",
      "11轮，训练Loss: 7.43, 校验Loss: 7.09\n",
      "12轮，训练Loss: 7.40, 校验Loss: 7.06\n",
      "13轮，训练Loss: 7.37, 校验Loss: 7.04\n",
      "14轮，训练Loss: 7.34, 校验Loss: 7.02\n",
      "15轮，训练Loss: 7.32, 校验Loss: 7.01\n",
      "16轮，训练Loss: 7.29, 校验Loss: 6.99\n",
      "17轮，训练Loss: 7.27, 校验Loss: 6.98\n",
      "18轮，训练Loss: 7.26, 校验Loss: 6.97\n",
      "19轮，训练Loss: 7.24, 校验Loss: 6.96\n",
      "20轮，训练Loss: 7.22, 校验Loss: 6.95\n",
      "21轮，训练Loss: 7.21, 校验Loss: 6.94\n",
      "22轮，训练Loss: 7.20, 校验Loss: 6.93\n",
      "23轮，训练Loss: 7.19, 校验Loss: 6.93\n",
      "24轮，训练Loss: 7.17, 校验Loss: 6.92\n",
      "25轮，训练Loss: 7.16, 校验Loss: 6.92\n",
      "26轮，训练Loss: 7.15, 校验Loss: 6.91\n",
      "27轮，训练Loss: 7.15, 校验Loss: 6.91\n",
      "28轮，训练Loss: 7.14, 校验Loss: 6.90\n",
      "29轮，训练Loss: 7.13, 校验Loss: 6.90\n",
      "30轮，训练Loss: 7.12, 校验Loss: 6.90\n",
      "31轮，训练Loss: 7.12, 校验Loss: 6.90\n",
      "32轮，训练Loss: 7.11, 校验Loss: 6.89\n",
      "33轮，训练Loss: 7.10, 校验Loss: 6.89\n",
      "34轮，训练Loss: 7.10, 校验Loss: 6.89\n",
      "35轮，训练Loss: 7.09, 校验Loss: 6.89\n",
      "36轮，训练Loss: 7.09, 校验Loss: 6.88\n",
      "37轮，训练Loss: 7.08, 校验Loss: 6.88\n",
      "38轮，训练Loss: 7.08, 校验Loss: 6.88\n",
      "39轮，训练Loss: 7.08, 校验Loss: 6.88\n",
      "40轮，训练Loss: 7.07, 校验Loss: 6.88\n",
      "41轮，训练Loss: 7.07, 校验Loss: 6.88\n",
      "42轮，训练Loss: 7.06, 校验Loss: 6.87\n",
      "43轮，训练Loss: 7.06, 校验Loss: 6.87\n",
      "44轮，训练Loss: 7.06, 校验Loss: 6.87\n",
      "45轮，训练Loss: 7.05, 校验Loss: 6.87\n",
      "46轮，训练Loss: 7.05, 校验Loss: 6.87\n",
      "47轮，训练Loss: 7.05, 校验Loss: 6.87\n",
      "48轮，训练Loss: 7.05, 校验Loss: 6.87\n",
      "49轮，训练Loss: 7.04, 校验Loss: 6.87\n",
      "50轮，训练Loss: 7.04, 校验Loss: 6.87\n",
      "51轮，训练Loss: 7.04, 校验Loss: 6.87\n",
      "52轮，训练Loss: 7.04, 校验Loss: 6.87\n",
      "53轮，训练Loss: 7.03, 校验Loss: 6.86\n",
      "54轮，训练Loss: 7.03, 校验Loss: 6.86\n",
      "55轮，训练Loss: 7.03, 校验Loss: 6.86\n",
      "56轮，训练Loss: 7.03, 校验Loss: 6.86\n",
      "57轮，训练Loss: 7.03, 校验Loss: 6.86\n",
      "58轮，训练Loss: 7.02, 校验Loss: 6.86\n",
      "59轮，训练Loss: 7.02, 校验Loss: 6.86\n",
      "60轮，训练Loss: 7.02, 校验Loss: 6.86\n",
      "61轮，训练Loss: 7.02, 校验Loss: 6.86\n",
      "62轮，训练Loss: 7.02, 校验Loss: 6.86\n",
      "63轮，训练Loss: 7.01, 校验Loss: 6.86\n",
      "64轮，训练Loss: 7.01, 校验Loss: 6.86\n",
      "65轮，训练Loss: 7.01, 校验Loss: 6.86\n",
      "66轮，训练Loss: 7.01, 校验Loss: 6.86\n",
      "67轮，训练Loss: 7.01, 校验Loss: 6.86\n",
      "68轮，训练Loss: 7.01, 校验Loss: 6.86\n",
      "69轮，训练Loss: 7.01, 校验Loss: 6.86\n",
      "70轮，训练Loss: 7.01, 校验Loss: 6.86\n",
      "71轮，训练Loss: 7.00, 校验Loss: 6.86\n",
      "72轮，训练Loss: 7.00, 校验Loss: 6.86\n",
      "73轮，训练Loss: 7.00, 校验Loss: 6.86\n",
      "74轮，训练Loss: 7.00, 校验Loss: 6.86\n",
      "75轮，训练Loss: 7.00, 校验Loss: 6.86\n",
      "76轮，训练Loss: 7.00, 校验Loss: 6.86\n",
      "77轮，训练Loss: 7.00, 校验Loss: 6.86\n",
      "78轮，训练Loss: 7.00, 校验Loss: 6.85\n",
      "79轮，训练Loss: 7.00, 校验Loss: 6.85\n",
      "80轮，训练Loss: 6.99, 校验Loss: 6.85\n",
      "81轮，训练Loss: 6.99, 校验Loss: 6.85\n",
      "82轮，训练Loss: 6.99, 校验Loss: 6.85\n",
      "83轮，训练Loss: 6.99, 校验Loss: 6.85\n",
      "84轮，训练Loss: 6.99, 校验Loss: 6.85\n",
      "85轮，训练Loss: 6.99, 校验Loss: 6.85\n",
      "86轮，训练Loss: 6.99, 校验Loss: 6.85\n",
      "87轮，训练Loss: 6.99, 校验Loss: 6.85\n",
      "88轮，训练Loss: 6.99, 校验Loss: 6.85\n",
      "89轮，训练Loss: 6.99, 校验Loss: 6.85\n",
      "90轮，训练Loss: 6.99, 校验Loss: 6.85\n",
      "91轮，训练Loss: 6.99, 校验Loss: 6.85\n",
      "92轮，训练Loss: 6.99, 校验Loss: 6.85\n",
      "93轮，训练Loss: 6.98, 校验Loss: 6.85\n",
      "94轮，训练Loss: 6.98, 校验Loss: 6.85\n",
      "95轮，训练Loss: 6.98, 校验Loss: 6.85\n",
      "96轮，训练Loss: 6.98, 校验Loss: 6.85\n",
      "97轮，训练Loss: 6.98, 校验Loss: 6.85\n",
      "98轮，训练Loss: 6.98, 校验Loss: 6.85\n",
      "99轮，训练Loss: 6.98, 校验Loss: 6.85\n"
     ]
    }
   ],
   "source": [
    "# 开始训练一个多层神经网络，将一个100维度的英文向量映射为200维度的中文词向量，隐含层节点为30\n",
    "\n",
    "input_size = 100\n",
    "output_size = 200\n",
    "hidden_size = 30\n",
    "\n",
    "# 新建一个神经网络，包含一个隐含层\n",
    "model = nn.Sequential(nn.Linear(input_size, hidden_size),\n",
    "                    nn.Tanh(),\n",
    "                    nn.Linear(hidden_size, output_size)\n",
    "                    )\n",
    "\n",
    "# 构造损失函数\n",
    "criterion = torch.nn.MSELoss()\n",
    "\n",
    "# 构造优化器\n",
    "optimizer = torch.optim.Adam(model.parameters(), lr = 0.0001)\n",
    "\n",
    "# 总的循环周期\n",
    "num_epoch = 100\n",
    "\n",
    "\n",
    "#开始训练500次，每次对所有的数据都做循环\n",
    "results = []\n",
    "for epoch in range(num_epoch):\n",
    "    train_loss = []\n",
    "    for data in train_data:\n",
    "        # 读入数据\n",
    "        x = Variable(torch.FloatTensor(data[0])).unsqueeze(0)\n",
    "        y = Variable(torch.FloatTensor(data[1])).unsqueeze(0)\n",
    "        # 模型预测\n",
    "        output = model(x)\n",
    "        \n",
    "        # 反向传播算法训练\n",
    "        optimizer.zero_grad()\n",
    "        loss = criterion(output, y)\n",
    "        train_loss.append(loss.data.numpy()[0])\n",
    "        loss.backward()\n",
    "        optimizer.step()\n",
    "    # 在校验集上测试一下效果\n",
    "    valid_loss = []\n",
    "    for data in valid_data:\n",
    "        x = Variable(torch.FloatTensor(data[0])).unsqueeze(0)\n",
    "        y = Variable(torch.FloatTensor(data[1])).unsqueeze(0)\n",
    "        output = model(x)\n",
    "        loss = criterion(output, y)\n",
    "        valid_loss.append(loss.data.numpy()[0])\n",
    "    results.append([np.mean(train_loss), np.mean(valid_loss)])\n",
    "    print('{}轮，训练Loss: {:.2f}, 校验Loss: {:.2f}'.format(epoch, np.mean(train_loss), np.mean(valid_loss)))\n"
   ]
  },
  {
   "cell_type": "code",
   "execution_count": 18,
   "metadata": {
    "collapsed": false
   },
   "outputs": [
    {
     "data": {
      "text/plain": [
       "<matplotlib.legend.Legend at 0x7f2004453208>"
      ]
     },
     "execution_count": 18,
     "metadata": {},
     "output_type": "execute_result"
    },
    {
     "data": {
      "image/png": "[encoded data removed]",
      "text/plain": [
       "<matplotlib.figure.Figure at 0x7f1f16c326a0>"
      ]
     },
     "metadata": {},
     "output_type": "display_data"
    }
   ],
   "source": [
    "# 绘制图形\n",
    "a = [i[0] for i in results]\n",
    "b = [i[1] for i in results]\n",
    "plt.plot(a, 'o', label = 'Training Loss')\n",
    "plt.plot(b, 's', label = 'Validation Loss')\n",
    "plt.xlabel('Epoch')\n",
    "plt.ylabel('Loss Function')\n",
    "plt.legend()"
   ]
  },
  {
   "cell_type": "code",
   "execution_count": 20,
   "metadata": {
    "collapsed": false
   },
   "outputs": [
    {
     "name": "stdout",
     "output_type": "stream",
     "text": [
      "精确匹配率：0.08\n",
      "一字匹配率：0.16\n",
      "[['呼吸', '身体'], ['回复', '问'], ['缺乏', '因此'], ['高空', '挥动'], ['自', '解体'], ['实际', '变量'], ['批判', '残忍'], ['绘制', '毁灭'], ['创造', '运用'], ['有', '因为'], ['队长', '亚历山大'], ['间', '停火'], ['铁', '锈'], ['现代', '艺术'], ['点', '感觉'], ['演员', '舞者'], ['隐藏', '那些'], ['无味', '讨厌'], ['相对', '相对'], ['雇用', '协助'], ['听到', '听到'], ['祖母', '她'], ['铅', '压制'], ['圆满', '确定'], ['禁止', '禁止'], ['走', '骑车'], ['示意', '转过身'], ['锁', '托架'], ['腐蚀', '腐蚀'], ['近', '靠近'], ['孤', '头领'], ['上船', '全副武装'], ['想象', '也许'], ['对于', '解释'], ['瓦尔多', 'dorset'], ['认为', '或者说'], ['闪闪发光', '应该'], ['问', '告诉他'], ['坐', '坐下'], ['树皮', '肉'], ['现在', '或者说'], ['吸引力', '挑剔'], ['十二', '五'], ['巨石', '洞口'], ['狄龙', '鲍勃'], ['功率', '输出'], ['美丽', '美丽'], ['无聊', '害怕'], ['口袋', '小孔'], ['塑料', '制成'], ['幸福', '陪着'], ['上', '晃动'], ['评分', '每场'], ['会话', '休息'], ['证明', '因此'], ['位置', '居民区'], ['富达', '结算'], ['鼻子', '后背'], ['原始', '原始'], ['球', '拧'], ['移动', '行进'], ['叹息', '颤抖'], ['视觉', '技术'], ['强奸', '杀害'], ['吹', '裂开'], ['梦想', '人生'], ['躺', '山洞'], ['父母', '她'], ['挂', '墙壁'], ['观众', '玩游戏'], ['塞思', '彼得'], ['变化', '判断'], ['备用', '拆卸'], ['信息', '信息'], ['声明', '回应'], ['的确', '或者说'], ['否则', '可能'], ['关', '关掉'], ['访问', '接入'], ['搜索', '搜寻'], ['铁青', '害怕'], ['可信', '信任'], ['参数', '变量'], ['金', '水晶'], ['00', '1'], ['成为', '而'], ['房源', '查询'], ['他', '我'], ['抽屉', '柜'], ['都市', '街道'], ['远', '但是'], ['可能', '因此'], ['电器', '穿过'], ['谷物', '牛奶'], ['拼盘', '托盘'], ['神秘', '消失'], ['拨号', '模块'], ['最近', '证实'], ['消失', '消失'], ['优势', '灵活性'], ['犹豫', '害怕'], ['船', '飞机'], ['苦恼', '看到'], ['停留', '休息'], ['涂抹', '粘'], ['来', '东西'], ['哔', '大叫'], ['溃疡', '脱水'], ['蛋', '胚'], ['沟', '牛角'], ['士兵', '暴徒'], ['弹跳', '摇动'], ['61', '42'], ['故意', '躲闪'], ['福', '舞'], ['扫', '钻出'], ['适合', '它'], ['增加', '减少'], ['修复', '处理'], ['难受', '舒服'], ['记录', '10'], ['我们', '想'], ['嘲弄', '颤抖'], ['抽噎', '哭泣'], ['反应迟钝', '害怕'], ['报道', '证实'], ['空', '废弃'], ['武器', '盾牌'], ['插图', '图示'], ['扮演着', '他们'], ['显然', '因为'], ['写', '写成'], ['闪烁', '颤动'], ['美好', '喔'], ['抢劫', '入侵'], ['流行', '音乐'], ['1978', '1966'], ['旅行者', '家人'], ['角', '边上'], ['雕像', '雕像'], ['幼虫', '幼虫'], ['公司', '供应商'], ['抚慰', '不悦'], ['烟尘', '蜡'], ['达到', '隙'], ['问题', '可能'], ['命令', '麦克风'], ['池', '水池'], ['标题', '沿着'], ['同', '一般'], ['精神', '美味'], ['夸克', '粒子'], ['扑', '抱起'], ['燕子', '肉'], ['收集器', 'kew'], ['层', '花纹'], ['感觉到', '也许'], ['点', '小孔'], ['假装', '害怕'], ['测试', '检测'], ['滥用', '虐待'], ['行', '长条'], ['纳秒', '静止'], ['盖茨', '洞口'], ['天线', '手掌'], ['三重奏', '魔法师'], ['哲学', '哲学'], ['岁', '成年'], ['波斯', '阿拉伯'], ['毛巾', '衣服'], ['可以', '所以'], ['元帅', '上校'], ['眼泪', '哭泣'], ['会计', '职员'], ['附', '凹槽'], ['病人', '病人'], ['入侵', '摧毁'], ['想', '想'], ['罗纳德', '克伦威尔'], ['礼仪', '语言'], ['畏缩', '不耐烦'], ['风度', '自信'], ['吠', '叫唤'], ['虽然', '因为'], ['光', '光亮'], ['躺', '水沟'], ['疑似', '劫持'], ['旅行', '搭车'], ['橙', '白色'], ['文章', '编写'], ['回荡', '议论'], ['开始', '结束'], ['面临', '难堪'], ['被盗', '盗取'], ['气', '布料'], ['分裂', '下压'], ['国际收支', '夹板'], ['疲劳', '低下头'], ['无底洞', '无可奈何'], ['闪光', '爆裂'], ['罢工', '中断'], ['服装', '布料'], ['故事', '故事'], ['传奇', '曾经'], ['主管', '工作人员'], ['周一', '中午'], ['向导', '魔法师'], ['改变', '变化'], ['紧紧', '揉捏'], ['挑选', '指责'], ['计算', '使'], ['托盘', '托盘'], ['符号', '符号'], ['全面', '打断'], ['其他', '例如'], ['战队', '警察'], ['穿', '裙子'], ['冰棍', '巧克力'], ['可听', '颤动'], ['菜', '配料'], ['提醒', '我'], ['假日', '下午茶'], ['军', '军队'], ['单位', '系统'], ['承担', '换句话说'], ['标志', '告知'], ['咕哝', '叹息'], ['平衡', '平衡'], ['真理', '真理'], ['认为', '想'], ['紫色', '白'], ['降落', '冲向'], ['方式', '理解'], ['研究', '研究'], ['中心', '区域'], ['翻转', '拧'], ['霍格尔', '莫尔斯'], ['帐户', '账户'], ['烤', '奶油'], ['传染', '脆弱'], ['提醒', '说'], ['周到', '理解'], ['妈妈', '我'], ['想象', '也许'], ['矩形', '圆形'], ['拖着', '弯腰'], ['坑', '裂'], ['不', '真的'], ['信使', '信使'], ['咳嗽', '吐']]\n"
     ]
    }
   ],
   "source": [
    "# 在测试集上验证准确度\n",
    "# 检验标准有两个：一个是直接用预测的词和标准答案做全词匹配；另一个是做单字的匹配\n",
    "exact_same = 0  #全词匹配数量\n",
    "one_same = 0 #单字匹配数量\n",
    "results = []\n",
    "for i, data in enumerate(test_data):\n",
    "    x = Variable(torch.FloatTensor(data[0])).unsqueeze(0)\n",
    "    # 给出模型的输出\n",
    "    output = model(x)\n",
    "    output = output.squeeze().data.numpy()\n",
    "    # 从中文词向量中找到与输出向量最相似的向量\n",
    "    most_similar = word_vectors.wv.similar_by_vector(output, 1)\n",
    "    # 将标准答案中的词与最相似的向量所对应的词打印出来\n",
    "    results.append([original_words[i][1], most_similar[0][0]])\n",
    "    \n",
    "    # 全词匹配\n",
    "    if original_words[i][1] == most_similar[0][0]:\n",
    "        exact_same += 1\n",
    "    # 某一个字匹配\n",
    "    if list(set(list(original_words[i][1])) & set(list(most_similar[0][0]))) != []:\n",
    "        one_same += 1\n",
    "    \n",
    "print(\"精确匹配率：{:.2f}\".format(1.0 * exact_same / len(test_data)))\n",
    "print('一字匹配率：{:.2f}'.format(1.0 * one_same / len(test_data)))\n",
    "print(results)"
   ]
  },
  {
   "cell_type": "code",
   "execution_count": null,
   "metadata": {
    "collapsed": true
   },
   "outputs": [],
   "source": []
  }
 ],
 "metadata": {
  "kernelspec": {
   "display_name": "Python 3",
   "language": "python",
   "name": "python3"
  },
  "language_info": {
   "codemirror_mode": {
    "name": "ipython",
    "version": 3
   },
   "file_extension": ".py",
   "mimetype": "text/x-python",
   "name": "python",
   "nbconvert_exporter": "python",
   "pygments_lexer": "ipython3",
   "version": "3.6.0"
  }
 },
 "nbformat": 4,
 "nbformat_minor": 2
}
